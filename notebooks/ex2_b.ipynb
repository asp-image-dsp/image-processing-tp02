{
 "cells": [
  {
   "cell_type": "code",
   "execution_count": 8,
   "source": [
    "import numpy as np\r\n",
    "import cv2\r\n",
    "from scipy import ndimage\r\n",
    "import matplotlib.pyplot as plt"
   ],
   "outputs": [],
   "metadata": {}
  },
  {
   "cell_type": "markdown",
   "source": [
    "## fspecial\r\n",
    "Este método replica el funcionamiento de `fspecial` de MATLAB. Dado un tipo de filtro (y de ser necesario un parámetro alpha), construye el kernel del filtro deseado. En esta implementación no se incluyeron todos los tipos disponibles en el método de MATLAB, sino únicamente los necesarios para este ejercicio (`laplacian` y `unsharp`). "
   ],
   "metadata": {}
  },
  {
   "cell_type": "code",
   "execution_count": 9,
   "source": [
    "def fspecial(filter_type, alpha=0.2):\r\n",
    "    '''\r\n",
    "    Creates a tow-dimensional filter of the specified type. Possible values for filter_type are:\r\n",
    "        'laplacian'\r\n",
    "        'unsharp'\r\n",
    "    @param      filter_type      Type of desiered filter.\r\n",
    "    @return     Numpy array containing coefficients of impulse response for the desired filter. \r\n",
    "    '''\r\n",
    "    if (filter_type == 'laplacian'):\r\n",
    "        a = max(0, min(alpha, 1))\r\n",
    "        h1 = a/ (a + 1)\r\n",
    "        h2 = (1 - a) / (a + 1)\r\n",
    "        return np.array([[h1,       h2,     h1],\r\n",
    "                         [h2, -4 / (a + 1), h2],\r\n",
    "                         [h1,       h2,     h1]])\r\n",
    "\r\n",
    "    elif (filter_type == 'unsharp'):\r\n",
    "        aux = np.array([[0,  0,  0],\r\n",
    "                         [0,  1,  0],\r\n",
    "                         [0,  0,  0]])\r\n",
    "        return aux - fspecial('laplacian', alpha)"
   ],
   "outputs": [],
   "metadata": {}
  },
  {
   "cell_type": "markdown",
   "source": [
    "Se crea un kernel de tipo `unsharp` y se muestra la imagen a filtrar. Luego de observar la imagen, para continuar con el código es necesario apretar alguna tecla. Para cerrar la ventana, correr la última celda."
   ],
   "metadata": {}
  },
  {
   "cell_type": "code",
   "execution_count": 10,
   "source": [
    "h = fspecial('unsharp')\r\n",
    "b = cv2.imread('../resources/barbara.jpg', cv2.IMREAD_GRAYSCALE)\r\n",
    "cv2.imshow('Unfiltered', b)\r\n",
    "cv2.waitKey(0)"
   ],
   "outputs": [
    {
     "output_type": "execute_result",
     "data": {
      "text/plain": [
       "13"
      ]
     },
     "metadata": {},
     "execution_count": 10
    }
   ],
   "metadata": {}
  },
  {
   "cell_type": "markdown",
   "source": [
    "Se filtra a la imagen con el kernel pasa-altos generado previamente. Como es de esperar, los bordes de la imagen ahora son más fuertes, producto de enfatizar las altas frecuencias espaciales. Esto sin embargo, trae acarreados efectos de aliasing, debido a los patrones de alta frecuencia presentes en la imagen original. "
   ],
   "metadata": {}
  },
  {
   "cell_type": "code",
   "execution_count": 11,
   "source": [
    "h1 = cv2.filter2D(b, -1, h)\r\n",
    "print(h1.shape)\r\n",
    "cv2.imshow('Filtered', h1)\r\n",
    "cv2.waitKey(0)\r\n",
    "cv2.destroyAllWindows() "
   ],
   "outputs": [
    {
     "output_type": "stream",
     "name": "stdout",
     "text": [
      "(580, 720)\n"
     ]
    }
   ],
   "metadata": {}
  },
  {
   "cell_type": "markdown",
   "source": [
    "Para cerrar las ventanas abiertas con imagenes, correr la siguiente celda:"
   ],
   "metadata": {}
  },
  {
   "cell_type": "code",
   "execution_count": 12,
   "source": [
    "cv2.destroyAllWindows() "
   ],
   "outputs": [],
   "metadata": {}
  }
 ],
 "metadata": {
  "orig_nbformat": 4,
  "language_info": {
   "name": "python",
   "version": "3.7.7",
   "mimetype": "text/x-python",
   "codemirror_mode": {
    "name": "ipython",
    "version": 3
   },
   "pygments_lexer": "ipython3",
   "nbconvert_exporter": "python",
   "file_extension": ".py"
  },
  "kernelspec": {
   "name": "python3",
   "display_name": "Python 3.7.7 64-bit ('base': conda)"
  },
  "interpreter": {
   "hash": "68fb5c20ba1a3aa3334967319a3d04975c138802f4c530b6ce16821a76da13ee"
  }
 },
 "nbformat": 4,
 "nbformat_minor": 2
}