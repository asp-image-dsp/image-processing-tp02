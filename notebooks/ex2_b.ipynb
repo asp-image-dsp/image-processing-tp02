{
 "cells": [
  {
   "cell_type": "code",
   "execution_count": 37,
   "source": [
    "import numpy as np\r\n",
    "import cv2\r\n",
    "from scipy import ndimage\r\n",
    "import matplotlib.pyplot as plt"
   ],
   "outputs": [],
   "metadata": {}
  },
  {
   "cell_type": "code",
   "execution_count": 38,
   "source": [
    "def fspecial(filter_type, alpha=0.2):\r\n",
    "    '''\r\n",
    "    Creates a tow-dimensional filter of the specified type. Possible values for filter_type are:\r\n",
    "        'laplacian'\r\n",
    "        'unsharp'\r\n",
    "    @param      filter_type      Type of desiered filter.\r\n",
    "    @return     Numpy array containing coefficients of impulse response for the desired filter. \r\n",
    "    '''\r\n",
    "    if (filter_type == 'laplacian'):\r\n",
    "        a = max(0, min(alpha, 1))\r\n",
    "        h1 = a/ (a + 1)\r\n",
    "        h2 = (1 - a) / (a + 1)\r\n",
    "        return np.array([[h1,       h2,     h1],\r\n",
    "                         [h2, -4 / (a + 1), h2],\r\n",
    "                         [h1,       h2,     h1]])\r\n",
    "\r\n",
    "    elif (filter_type == 'unsharp'):\r\n",
    "        aux = np.array([[0,  0,  0],\r\n",
    "                         [0,  1,  0],\r\n",
    "                         [0,  0,  0]])\r\n",
    "        return aux - fspecial('laplacian', alpha)"
   ],
   "outputs": [],
   "metadata": {}
  },
  {
   "cell_type": "code",
   "execution_count": 39,
   "source": [
    "h = fspecial('unsharp')\r\n",
    "print(h)\r\n",
    "b = cv2.imread('C:/Users/facun/OneDrive/Desktop/ITBA/9C_Procesamiento_de_Imagenes/image-processing-tp02/resources/barbara.jpg', cv2.IMREAD_GRAYSCALE)\r\n",
    "cv2.imshow('Unfiltered', b)\r\n",
    "cv2.waitKey(0)"
   ],
   "outputs": [
    {
     "output_type": "stream",
     "name": "stdout",
     "text": [
      "[[-0.16666667 -0.66666667 -0.16666667]\n",
      " [-0.66666667  4.33333333 -0.66666667]\n",
      " [-0.16666667 -0.66666667 -0.16666667]]\n"
     ]
    },
    {
     "output_type": "execute_result",
     "data": {
      "text/plain": [
       "13"
      ]
     },
     "metadata": {},
     "execution_count": 39
    }
   ],
   "metadata": {}
  },
  {
   "cell_type": "code",
   "execution_count": 40,
   "source": [
    "h1 = cv2.filter2D(b, -1, h)\r\n",
    "print(h1.shape)\r\n",
    "cv2.imshow('Filtered', h1)\r\n",
    "cv2.waitKey(0)\r\n",
    "cv2.destroyAllWindows() "
   ],
   "outputs": [
    {
     "output_type": "stream",
     "name": "stdout",
     "text": [
      "(580, 720)\n"
     ]
    }
   ],
   "metadata": {}
  },
  {
   "cell_type": "code",
   "execution_count": 41,
   "source": [
    "cv2.destroyAllWindows() "
   ],
   "outputs": [],
   "metadata": {}
  }
 ],
 "metadata": {
  "orig_nbformat": 4,
  "language_info": {
   "name": "python",
   "version": "3.7.7",
   "mimetype": "text/x-python",
   "codemirror_mode": {
    "name": "ipython",
    "version": 3
   },
   "pygments_lexer": "ipython3",
   "nbconvert_exporter": "python",
   "file_extension": ".py"
  },
  "kernelspec": {
   "name": "python3",
   "display_name": "Python 3.7.7 64-bit ('base': conda)"
  },
  "interpreter": {
   "hash": "68fb5c20ba1a3aa3334967319a3d04975c138802f4c530b6ce16821a76da13ee"
  }
 },
 "nbformat": 4,
 "nbformat_minor": 2
}